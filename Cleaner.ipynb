{
 "cells": [
  {
   "cell_type": "markdown",
   "id": "viral-catholic",
   "metadata": {},
   "source": [
    "#### The purpose of this project is to practice some basic Data cleaning principals, and perhaps gain some insights as to the types of projects that are most successful on kickstarter.\n",
    "\n"
   ]
  },
  {
   "cell_type": "markdown",
   "id": "introductory-prophet",
   "metadata": {},
   "source": [
    "#### First, we check for any missing values in our data set"
   ]
  },
  {
   "cell_type": "code",
   "execution_count": 91,
   "id": "supposed-oliver",
   "metadata": {},
   "outputs": [
    {
     "name": "stdout",
     "output_type": "stream",
     "text": [
      "ID                     0\n",
      "name                   4\n",
      "category               0\n",
      "main_category          0\n",
      "currency               0\n",
      "deadline               0\n",
      "goal                   0\n",
      "launched               0\n",
      "pledged                0\n",
      "state                  0\n",
      "backers                0\n",
      "country                0\n",
      "usd pledged         3797\n",
      "usd_pledged_real       0\n",
      "usd_goal_real          0\n",
      "dtype: int64\n"
     ]
    }
   ],
   "source": [
    "import pandas as pd\n",
    "import numpy as np\n",
    "\n",
    "data = pd.read_csv('ks-projects-201801.csv')\n",
    "\n",
    "#missing data points\n",
    "missing_data_points = data.isnull().sum()\n",
    "percentage_missing = missing_data_points.sum()/np.product(data.shape)\n",
    "\n",
    "print(missing_data_points)\n"
   ]
  },
  {
   "cell_type": "markdown",
   "id": "naval-oxide",
   "metadata": {},
   "source": [
    "#### Next, we need to know why the data was missing. \n",
    "\n",
    "Is the missing data meaningful? IE, doeos a blank value indicate something useful like a lack of financing, etc?\n",
    "\n",
    "#### USD pledged\n",
    "In this particular project, USD pledged is the result of one of the scrapers which is not accurately representing the pledged amounts. USD pledged real (after some research) is closer to the actual values, so we will drop the whole USD pledged collumn, and just use USD pledged real\n",
    "\n",
    "#### Country Code\n",
    "\n",
    "N,0\" is an error in the KS data, for now, we will change it to N/A\n",
    "\n",
    "#### Missing name category\n",
    "For this project if a name is missing from a project we will drop it."
   ]
  },
  {
   "cell_type": "code",
   "execution_count": 102,
   "id": "suffering-lobby",
   "metadata": {},
   "outputs": [
    {
     "data": {
      "text/html": [
       "<div>\n",
       "<style scoped>\n",
       "    .dataframe tbody tr th:only-of-type {\n",
       "        vertical-align: middle;\n",
       "    }\n",
       "\n",
       "    .dataframe tbody tr th {\n",
       "        vertical-align: top;\n",
       "    }\n",
       "\n",
       "    .dataframe thead th {\n",
       "        text-align: right;\n",
       "    }\n",
       "</style>\n",
       "<table border=\"1\" class=\"dataframe\">\n",
       "  <thead>\n",
       "    <tr style=\"text-align: right;\">\n",
       "      <th></th>\n",
       "      <th>name</th>\n",
       "      <th>category</th>\n",
       "      <th>main_category</th>\n",
       "      <th>currency</th>\n",
       "      <th>deadline</th>\n",
       "      <th>goal</th>\n",
       "      <th>launched</th>\n",
       "      <th>pledged</th>\n",
       "      <th>state</th>\n",
       "      <th>backers</th>\n",
       "      <th>country</th>\n",
       "      <th>usd_pledged_real</th>\n",
       "      <th>usd_goal_real</th>\n",
       "    </tr>\n",
       "  </thead>\n",
       "  <tbody>\n",
       "    <tr>\n",
       "      <th>0</th>\n",
       "      <td>The Songs of Adelaide &amp; Abullah</td>\n",
       "      <td>Poetry</td>\n",
       "      <td>Publishing</td>\n",
       "      <td>GBP</td>\n",
       "      <td>2015-10-09</td>\n",
       "      <td>1000.0</td>\n",
       "      <td>2015-08-11 12:12:28</td>\n",
       "      <td>0.0</td>\n",
       "      <td>failed</td>\n",
       "      <td>0</td>\n",
       "      <td>GB</td>\n",
       "      <td>0.0</td>\n",
       "      <td>1533.95</td>\n",
       "    </tr>\n",
       "    <tr>\n",
       "      <th>1</th>\n",
       "      <td>Greeting From Earth: ZGAC Arts Capsule For ET</td>\n",
       "      <td>Narrative Film</td>\n",
       "      <td>Film &amp; Video</td>\n",
       "      <td>USD</td>\n",
       "      <td>2017-11-01</td>\n",
       "      <td>30000.0</td>\n",
       "      <td>2017-09-02 04:43:57</td>\n",
       "      <td>2421.0</td>\n",
       "      <td>failed</td>\n",
       "      <td>15</td>\n",
       "      <td>US</td>\n",
       "      <td>2421.0</td>\n",
       "      <td>30000.00</td>\n",
       "    </tr>\n",
       "    <tr>\n",
       "      <th>2</th>\n",
       "      <td>Where is Hank?</td>\n",
       "      <td>Narrative Film</td>\n",
       "      <td>Film &amp; Video</td>\n",
       "      <td>USD</td>\n",
       "      <td>2013-02-26</td>\n",
       "      <td>45000.0</td>\n",
       "      <td>2013-01-12 00:20:50</td>\n",
       "      <td>220.0</td>\n",
       "      <td>failed</td>\n",
       "      <td>3</td>\n",
       "      <td>US</td>\n",
       "      <td>220.0</td>\n",
       "      <td>45000.00</td>\n",
       "    </tr>\n",
       "    <tr>\n",
       "      <th>3</th>\n",
       "      <td>ToshiCapital Rekordz Needs Help to Complete Album</td>\n",
       "      <td>Music</td>\n",
       "      <td>Music</td>\n",
       "      <td>USD</td>\n",
       "      <td>2012-04-16</td>\n",
       "      <td>5000.0</td>\n",
       "      <td>2012-03-17 03:24:11</td>\n",
       "      <td>1.0</td>\n",
       "      <td>failed</td>\n",
       "      <td>1</td>\n",
       "      <td>US</td>\n",
       "      <td>1.0</td>\n",
       "      <td>5000.00</td>\n",
       "    </tr>\n",
       "    <tr>\n",
       "      <th>4</th>\n",
       "      <td>Community Film Project: The Art of Neighborhoo...</td>\n",
       "      <td>Film &amp; Video</td>\n",
       "      <td>Film &amp; Video</td>\n",
       "      <td>USD</td>\n",
       "      <td>2015-08-29</td>\n",
       "      <td>19500.0</td>\n",
       "      <td>2015-07-04 08:35:03</td>\n",
       "      <td>1283.0</td>\n",
       "      <td>canceled</td>\n",
       "      <td>14</td>\n",
       "      <td>US</td>\n",
       "      <td>1283.0</td>\n",
       "      <td>19500.00</td>\n",
       "    </tr>\n",
       "    <tr>\n",
       "      <th>...</th>\n",
       "      <td>...</td>\n",
       "      <td>...</td>\n",
       "      <td>...</td>\n",
       "      <td>...</td>\n",
       "      <td>...</td>\n",
       "      <td>...</td>\n",
       "      <td>...</td>\n",
       "      <td>...</td>\n",
       "      <td>...</td>\n",
       "      <td>...</td>\n",
       "      <td>...</td>\n",
       "      <td>...</td>\n",
       "      <td>...</td>\n",
       "    </tr>\n",
       "    <tr>\n",
       "      <th>378656</th>\n",
       "      <td>ChknTruk Nationwide Charity Drive 2014 (Canceled)</td>\n",
       "      <td>Documentary</td>\n",
       "      <td>Film &amp; Video</td>\n",
       "      <td>USD</td>\n",
       "      <td>2014-10-17</td>\n",
       "      <td>50000.0</td>\n",
       "      <td>2014-09-17 02:35:30</td>\n",
       "      <td>25.0</td>\n",
       "      <td>canceled</td>\n",
       "      <td>1</td>\n",
       "      <td>US</td>\n",
       "      <td>25.0</td>\n",
       "      <td>50000.00</td>\n",
       "    </tr>\n",
       "    <tr>\n",
       "      <th>378657</th>\n",
       "      <td>The Tribe</td>\n",
       "      <td>Narrative Film</td>\n",
       "      <td>Film &amp; Video</td>\n",
       "      <td>USD</td>\n",
       "      <td>2011-07-19</td>\n",
       "      <td>1500.0</td>\n",
       "      <td>2011-06-22 03:35:14</td>\n",
       "      <td>155.0</td>\n",
       "      <td>failed</td>\n",
       "      <td>5</td>\n",
       "      <td>US</td>\n",
       "      <td>155.0</td>\n",
       "      <td>1500.00</td>\n",
       "    </tr>\n",
       "    <tr>\n",
       "      <th>378658</th>\n",
       "      <td>Walls of Remedy- New lesbian Romantic Comedy f...</td>\n",
       "      <td>Narrative Film</td>\n",
       "      <td>Film &amp; Video</td>\n",
       "      <td>USD</td>\n",
       "      <td>2010-08-16</td>\n",
       "      <td>15000.0</td>\n",
       "      <td>2010-07-01 19:40:30</td>\n",
       "      <td>20.0</td>\n",
       "      <td>failed</td>\n",
       "      <td>1</td>\n",
       "      <td>US</td>\n",
       "      <td>20.0</td>\n",
       "      <td>15000.00</td>\n",
       "    </tr>\n",
       "    <tr>\n",
       "      <th>378659</th>\n",
       "      <td>BioDefense Education Kit</td>\n",
       "      <td>Technology</td>\n",
       "      <td>Technology</td>\n",
       "      <td>USD</td>\n",
       "      <td>2016-02-13</td>\n",
       "      <td>15000.0</td>\n",
       "      <td>2016-01-13 18:13:53</td>\n",
       "      <td>200.0</td>\n",
       "      <td>failed</td>\n",
       "      <td>6</td>\n",
       "      <td>US</td>\n",
       "      <td>200.0</td>\n",
       "      <td>15000.00</td>\n",
       "    </tr>\n",
       "    <tr>\n",
       "      <th>378660</th>\n",
       "      <td>Nou Renmen Ayiti!  We Love Haiti!</td>\n",
       "      <td>Performance Art</td>\n",
       "      <td>Art</td>\n",
       "      <td>USD</td>\n",
       "      <td>2011-08-16</td>\n",
       "      <td>2000.0</td>\n",
       "      <td>2011-07-19 09:07:47</td>\n",
       "      <td>524.0</td>\n",
       "      <td>failed</td>\n",
       "      <td>17</td>\n",
       "      <td>US</td>\n",
       "      <td>524.0</td>\n",
       "      <td>2000.00</td>\n",
       "    </tr>\n",
       "  </tbody>\n",
       "</table>\n",
       "<p>378657 rows × 13 columns</p>\n",
       "</div>"
      ],
      "text/plain": [
       "                                                     name         category  \\\n",
       "0                         The Songs of Adelaide & Abullah           Poetry   \n",
       "1           Greeting From Earth: ZGAC Arts Capsule For ET   Narrative Film   \n",
       "2                                          Where is Hank?   Narrative Film   \n",
       "3       ToshiCapital Rekordz Needs Help to Complete Album            Music   \n",
       "4       Community Film Project: The Art of Neighborhoo...     Film & Video   \n",
       "...                                                   ...              ...   \n",
       "378656  ChknTruk Nationwide Charity Drive 2014 (Canceled)      Documentary   \n",
       "378657                                          The Tribe   Narrative Film   \n",
       "378658  Walls of Remedy- New lesbian Romantic Comedy f...   Narrative Film   \n",
       "378659                           BioDefense Education Kit       Technology   \n",
       "378660                  Nou Renmen Ayiti!  We Love Haiti!  Performance Art   \n",
       "\n",
       "       main_category currency    deadline     goal             launched  \\\n",
       "0         Publishing      GBP  2015-10-09   1000.0  2015-08-11 12:12:28   \n",
       "1       Film & Video      USD  2017-11-01  30000.0  2017-09-02 04:43:57   \n",
       "2       Film & Video      USD  2013-02-26  45000.0  2013-01-12 00:20:50   \n",
       "3              Music      USD  2012-04-16   5000.0  2012-03-17 03:24:11   \n",
       "4       Film & Video      USD  2015-08-29  19500.0  2015-07-04 08:35:03   \n",
       "...              ...      ...         ...      ...                  ...   \n",
       "378656  Film & Video      USD  2014-10-17  50000.0  2014-09-17 02:35:30   \n",
       "378657  Film & Video      USD  2011-07-19   1500.0  2011-06-22 03:35:14   \n",
       "378658  Film & Video      USD  2010-08-16  15000.0  2010-07-01 19:40:30   \n",
       "378659    Technology      USD  2016-02-13  15000.0  2016-01-13 18:13:53   \n",
       "378660           Art      USD  2011-08-16   2000.0  2011-07-19 09:07:47   \n",
       "\n",
       "        pledged     state  backers country  usd_pledged_real  usd_goal_real  \n",
       "0           0.0    failed        0      GB               0.0        1533.95  \n",
       "1        2421.0    failed       15      US            2421.0       30000.00  \n",
       "2         220.0    failed        3      US             220.0       45000.00  \n",
       "3           1.0    failed        1      US               1.0        5000.00  \n",
       "4        1283.0  canceled       14      US            1283.0       19500.00  \n",
       "...         ...       ...      ...     ...               ...            ...  \n",
       "378656     25.0  canceled        1      US              25.0       50000.00  \n",
       "378657    155.0    failed        5      US             155.0        1500.00  \n",
       "378658     20.0    failed        1      US              20.0       15000.00  \n",
       "378659    200.0    failed        6      US             200.0       15000.00  \n",
       "378660    524.0    failed       17      US             524.0        2000.00  \n",
       "\n",
       "[378657 rows x 13 columns]"
      ]
     },
     "execution_count": 102,
     "metadata": {},
     "output_type": "execute_result"
    }
   ],
   "source": [
    "trunc_data = data.drop('usd pledged',axis=1)\n",
    "trunc_data = trunc_data.drop('ID', axis = 1)\n",
    "trunc_data = trunc_data.dropna()\n",
    "trunc_data"
   ]
  },
  {
   "cell_type": "code",
   "execution_count": 100,
   "id": "narrow-measurement",
   "metadata": {},
   "outputs": [
    {
     "data": {
      "text/plain": [
       "array(['Publishing', 'Film & Video', 'Music', 'Food', 'Design', 'Crafts',\n",
       "       'Games', 'Comics', 'Fashion', 'Theater', 'Art', 'Photography',\n",
       "       'Technology', 'Dance', 'Journalism'], dtype=object)"
      ]
     },
     "execution_count": 100,
     "metadata": {},
     "output_type": "execute_result"
    }
   ],
   "source": [
    "chart_labels = trunc_data.main_category.unique()\n",
    "chart_labels"
   ]
  },
  {
   "cell_type": "markdown",
   "id": "compliant-cyprus",
   "metadata": {},
   "source": [
    "Here we verify the removal of our null data"
   ]
  },
  {
   "cell_type": "code",
   "execution_count": 28,
   "id": "improved-convenience",
   "metadata": {},
   "outputs": [
    {
     "data": {
      "text/plain": [
       "ID                  0\n",
       "name                0\n",
       "category            0\n",
       "main_category       0\n",
       "currency            0\n",
       "deadline            0\n",
       "goal                0\n",
       "launched            0\n",
       "pledged             0\n",
       "state               0\n",
       "backers             0\n",
       "country             0\n",
       "usd_pledged_real    0\n",
       "usd_goal_real       0\n",
       "dtype: int64"
      ]
     },
     "execution_count": 28,
     "metadata": {},
     "output_type": "execute_result"
    }
   ],
   "source": [
    "trunc_data.isnull().sum()"
   ]
  },
  {
   "cell_type": "markdown",
   "id": "drawn-vault",
   "metadata": {},
   "source": [
    "#### Let's check out what projects are most posted to kickstarter\n",
    "To do this we will put to work some very basic stats to determine the inner angle we will use for our chart, based on each category's percentage representation in the set."
   ]
  },
  {
   "cell_type": "code",
   "execution_count": 124,
   "id": "normal-regression",
   "metadata": {},
   "outputs": [],
   "source": [
    "label_count = []\n",
    "pie_angles =[]\n",
    "explode_values = []\n",
    "\n",
    "for i in chart_labels:\n",
    "    label_count.append((data['category'] == i).sum())\n",
    "\n",
    "            \n",
    "def get_angles(inlist):\n",
    "    outlist = []\n",
    "    for i in inlist:\n",
    "        outlist.append((i/sum(inlist))*360)\n",
    "    return outlist\n",
    "        \n",
    "pie_angles = get_angles(label_count)\n",
    "    \n",
    "for i in label_count:\n",
    "    explode_values.append(0)\n",
    "\n"
   ]
  },
  {
   "cell_type": "markdown",
   "id": "perceived-liability",
   "metadata": {},
   "source": [
    "Here is where the \"magic\" happens. If you aren't familiar with creating pie charts, basic generation can be found here https://pythonspot.com/matplotlib-pie-chart/"
   ]
  },
  {
   "cell_type": "code",
   "execution_count": 125,
   "id": "determined-brick",
   "metadata": {},
   "outputs": [
    {
     "data": {
      "image/png": "[encoded data removed]",
      "text/plain": [
       "<Figure size 432x288 with 1 Axes>"
      ]
     },
     "metadata": {},
     "output_type": "display_data"
    }
   ],
   "source": [
    "import matplotlib.pyplot as plt\n",
    "\n",
    "# Pie chart, where the slices will be ordered and plotted counter-clockwise:\n",
    "labels = chart_labels\n",
    "sizes = pie_angles\n",
    "explode = (explode_values)  # only \"explode\" the 2nd slice (i.e. 'Hogs')\n",
    "\n",
    "fig1, ax1 = plt.subplots()\n",
    "ax1.pie(sizes, labels = chart_labels,explode=explode, autopct='%1.1f%%',\n",
    "        shadow=True, startangle=90)\n",
    "ax1.axis('equal')  # Equal aspect ratio ensures that pie is drawn as a circle.\n",
    "plt.legend(chart_labels,loc = 'best')\n",
    "plt.tight_layout()\n",
    "plt.show()"
   ]
  },
  {
   "cell_type": "markdown",
   "id": "blocked-nirvana",
   "metadata": {},
   "source": [
    "The next thing we would want to do is for each category, let's find out what the success vs. the failure rate is. "
   ]
  },
  {
   "cell_type": "code",
   "execution_count": 132,
   "id": "naughty-sustainability",
   "metadata": {},
   "outputs": [
    {
     "data": {
      "text/plain": [
       "6"
      ]
     },
     "execution_count": 132,
     "metadata": {},
     "output_type": "execute_result"
    }
   ],
   "source": [
    "ks_states = trunc_data.state.unique()\n",
    "explode_values = []\n",
    "sum_ks_states = []\n",
    "for i in ks_states:\n",
    "    sum_ks_states.append((data['state'] == i).sum())\n",
    "\n",
    "pie_angles = get_angles(sum_ks_states)\n",
    "\n",
    "for i in ks_states:\n",
    "    explode_values.append(0)\n",
    "\n",
    "len(explode_values)\n"
   ]
  },
  {
   "cell_type": "code",
   "execution_count": 134,
   "id": "fourth-fleece",
   "metadata": {},
   "outputs": [
    {
     "data": {
      "image/png": "[encoded data removed]",
      "text/plain": [
       "<Figure size 432x288 with 1 Axes>"
      ]
     },
     "metadata": {},
     "output_type": "display_data"
    }
   ],
   "source": [
    "import matplotlib.pyplot as plt\n",
    "\n",
    "# Pie chart, where the slices will be ordered and plotted counter-clockwise:\n",
    "labels = ks_states\n",
    "sizes = pie_angles\n",
    "explode = (explode_values)  # only \"explode\" the 2nd slice (i.e. 'Hogs')\n",
    "\n",
    "fig1, ax1 = plt.subplots()\n",
    "ax1.pie(sizes, labels = ks_states,explode=explode, autopct='%1.1f%%',\n",
    "        shadow=True, startangle=90)\n",
    "ax1.axis('equal')  # Equal aspect ratio ensures that pie is drawn as a circle.\n",
    "plt.legend(ks_states,loc = 'best')\n",
    "plt.tight_layout()\n",
    "plt.show()"
   ]
  },
  {
   "cell_type": "code",
   "execution_count": 138,
   "id": "graduate-sudan",
   "metadata": {},
   "outputs": [
    {
     "data": {
      "text/plain": [
       "<AxesSubplot:>"
      ]
     },
     "execution_count": 138,
     "metadata": {},
     "output_type": "execute_result"
    },
    {
     "data": {
      "image/png": "[encoded data removed]",
      "text/plain": [
       "<Figure size 432x288 with 1 Axes>"
      ]
     },
     "metadata": {
      "needs_background": "light"
     },
     "output_type": "display_data"
    }
   ],
   "source": [
    "trunc_data.boxplot('usd_pledged_real')"
   ]
  },
  {
   "cell_type": "markdown",
   "id": "manufactured-privacy",
   "metadata": {},
   "source": [
    "For the next sectiton we will begin normalizing our data so it doesn't look terrible like the above example\n"
   ]
  },
  {
   "cell_type": "code",
   "execution_count": null,
   "id": "asian-christianity",
   "metadata": {},
   "outputs": [],
   "source": []
  }
 ],
 "metadata": {
  "kernelspec": {
   "display_name": "Python 3",
   "language": "python",
   "name": "python3"
  },
  "language_info": {
   "codemirror_mode": {
    "name": "ipython",
    "version": 3
   },
   "file_extension": ".py",
   "mimetype": "text/x-python",
   "name": "python",
   "nbconvert_exporter": "python",
   "pygments_lexer": "ipython3",
   "version": "3.9.2"
  }
 },
 "nbformat": 4,
 "nbformat_minor": 5
}
